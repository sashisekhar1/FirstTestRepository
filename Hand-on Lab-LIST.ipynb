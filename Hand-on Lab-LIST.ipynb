{
 "cells": [
  {
   "cell_type": "code",
   "execution_count": 2,
   "id": "5ac36f11-729a-470a-9f8f-a24d2ab64ee5",
   "metadata": {},
   "outputs": [
    {
     "data": {
      "text/plain": [
       "['The bodyguard', 7.0, 1992]"
      ]
     },
     "execution_count": 2,
     "metadata": {},
     "output_type": "execute_result"
    }
   ],
   "source": [
    "# Create a List\n",
    "L = ['The bodyguard',7.0,1992]\n",
    "L"
   ]
  },
  {
   "cell_type": "code",
   "execution_count": 3,
   "id": "88f74d39-0eaf-4970-becc-d0433282fccc",
   "metadata": {},
   "outputs": [
    {
     "name": "stdout",
     "output_type": "stream",
     "text": [
      "The same element using positive and negative indexing : \n",
      " Positive : The bodyguard \n",
      " Negative: The bodyguard\n",
      "The same element using positive and negative indexing : \n",
      " Positive : 7.0 \n",
      " Negative: 7.0\n",
      "The same element using positive and negative indexing : \n",
      " Positive : 1992 \n",
      " Negative: 1992\n"
     ]
    }
   ],
   "source": [
    "# Print elements on each index \n",
    "print ('The same element using positive and negative indexing : \\n Positive :', L[0],\n",
    "      '\\n Negative:', L[-3])\n",
    "print ('The same element using positive and negative indexing : \\n Positive :', L[1],\n",
    "      '\\n Negative:', L[-2])\n",
    "print ('The same element using positive and negative indexing : \\n Positive :', L[2],\n",
    "      '\\n Negative:', L[-1])"
   ]
  },
  {
   "cell_type": "markdown",
   "id": "d6fae401-b56e-4a2f-9f9a-aef5b9771515",
   "metadata": {},
   "source": [
    "### List Content"
   ]
  },
  {
   "cell_type": "code",
   "execution_count": 4,
   "id": "8d34222b-c46f-4b24-bd54-089d4b5df6d4",
   "metadata": {},
   "outputs": [
    {
     "data": {
      "text/plain": [
       "['The Bodyguard', 7.0, 1992, [1, 2], ('A', 1)]"
      ]
     },
     "execution_count": 4,
     "metadata": {},
     "output_type": "execute_result"
    }
   ],
   "source": [
    "# Sample list\n",
    "['The Bodyguard',7.0,1992,[1,2],('A',1)]"
   ]
  },
  {
   "cell_type": "markdown",
   "id": "58653484-ecad-4633-a030-3e73597ef0d1",
   "metadata": {},
   "source": [
    "### List Operation"
   ]
  },
  {
   "cell_type": "code",
   "execution_count": 5,
   "id": "b4e410c5-683d-4b56-9e75-ff1a26b411e1",
   "metadata": {},
   "outputs": [],
   "source": [
    "# Sample list\n",
    "L = ['The Bodyguard',7.0,1992,\"BG\",1]"
   ]
  },
  {
   "cell_type": "code",
   "execution_count": 6,
   "id": "d0fd650d-bc7c-450c-b807-9cfc3367531f",
   "metadata": {},
   "outputs": [
    {
     "data": {
      "text/plain": [
       "['BG', 1]"
      ]
     },
     "execution_count": 6,
     "metadata": {},
     "output_type": "execute_result"
    }
   ],
   "source": [
    "# list slicing\n",
    "L[3:5]"
   ]
  },
  {
   "cell_type": "code",
   "execution_count": 7,
   "id": "02743ec1-938b-447f-9285-6f1396f2282e",
   "metadata": {},
   "outputs": [],
   "source": [
    "# Use extend to add new elements to list\n",
    "L = [\"The Bodyguard\",7.0]"
   ]
  },
  {
   "cell_type": "code",
   "execution_count": 8,
   "id": "b6a85dc0-42f2-452d-bc95-b6f91c601211",
   "metadata": {},
   "outputs": [
    {
     "data": {
      "text/plain": [
       "['The Bodyguard', 7.0, 'pop', 10]"
      ]
     },
     "execution_count": 8,
     "metadata": {},
     "output_type": "execute_result"
    }
   ],
   "source": [
    "L.extend(['pop',10])\n",
    "L"
   ]
  },
  {
   "cell_type": "code",
   "execution_count": 12,
   "id": "9e097321-9ccf-444f-8596-397625e709e4",
   "metadata": {},
   "outputs": [
    {
     "data": {
      "text/plain": [
       "['The Bodyguard', 7.0, 'pop', 10, ['a', 'b'], ['a', 'b']]"
      ]
     },
     "execution_count": 12,
     "metadata": {},
     "output_type": "execute_result"
    }
   ],
   "source": [
    "# Use append to add elements to list\n",
    "L.append(['a','b'])\n",
    "L"
   ]
  },
  {
   "cell_type": "markdown",
   "id": "5dc068c4-d2fd-409a-95e5-4c6723c259eb",
   "metadata": {},
   "source": [
    "### List Mutable"
   ]
  },
  {
   "cell_type": "code",
   "execution_count": 13,
   "id": "320cb4d9-5df1-4726-8db9-2cddd1e895a1",
   "metadata": {},
   "outputs": [
    {
     "name": "stdout",
     "output_type": "stream",
     "text": [
      "Before change: ['disco', 10, 1.2]\n",
      "After change: ['Hard rock', 10, 1.2]\n"
     ]
    }
   ],
   "source": [
    "# Change the element based on the index\n",
    "A= ['disco',10,1.2]\n",
    "print('Before change:', A)\n",
    "A[0] = 'Hard rock'\n",
    "print('After change:', A)"
   ]
  },
  {
   "cell_type": "code",
   "execution_count": 14,
   "id": "6c41316f-ad1f-4e52-8599-50f415df9ea8",
   "metadata": {},
   "outputs": [
    {
     "name": "stdout",
     "output_type": "stream",
     "text": [
      "Before change: ['Hard rock', 10, 1.2]\n",
      "After change: [10, 1.2]\n"
     ]
    }
   ],
   "source": [
    "# Delete the element based on the index\n",
    "print('Before change:', A)\n",
    "del(A[0])\n",
    "print('After change:', A)"
   ]
  },
  {
   "cell_type": "code",
   "execution_count": 15,
   "id": "c682c16e-6cf0-4841-af66-2735f4b89baf",
   "metadata": {},
   "outputs": [
    {
     "data": {
      "text/plain": [
       "['hard', 'rock']"
      ]
     },
     "execution_count": 15,
     "metadata": {},
     "output_type": "execute_result"
    }
   ],
   "source": [
    "# Split the string, default by space\n",
    "'hard rock'.split()"
   ]
  },
  {
   "cell_type": "code",
   "execution_count": 16,
   "id": "cad665e4-e1aa-4c1b-b088-fe7a20bfbcf2",
   "metadata": {},
   "outputs": [
    {
     "data": {
      "text/plain": [
       "['A', 'B', 'C', 'D']"
      ]
     },
     "execution_count": 16,
     "metadata": {},
     "output_type": "execute_result"
    }
   ],
   "source": [
    "# Split the string by comma\n",
    "'A,B,C,D'.split(',')"
   ]
  },
  {
   "cell_type": "markdown",
   "id": "85760e23-3d6b-486c-a34c-820e70c1c18e",
   "metadata": {},
   "source": [
    "## Clone Copy List"
   ]
  },
  {
   "cell_type": "code",
   "execution_count": 17,
   "id": "8d76d406-e49d-41ef-8256-bf84dfef1580",
   "metadata": {},
   "outputs": [
    {
     "name": "stdout",
     "output_type": "stream",
     "text": [
      "A: ['hard rock', 10, 1.2]\n",
      "B: ['hard rock', 10, 1.2]\n"
     ]
    }
   ],
   "source": [
    "# Copy (Copy by reference) the list A\n",
    "A = ['hard rock',10,1.2]\n",
    "B=A\n",
    "print('A:',A)\n",
    "print('B:',A)"
   ]
  },
  {
   "cell_type": "code",
   "execution_count": 18,
   "id": "bbd82ffa-d79c-46d2-888e-e7d4b2ebd9ac",
   "metadata": {},
   "outputs": [
    {
     "name": "stdout",
     "output_type": "stream",
     "text": [
      "B[0]: hard rock\n",
      "B[0]: Banana\n"
     ]
    }
   ],
   "source": [
    "# Examine the copy by reference\n",
    "print('B[0]:',B[0])\n",
    "A[0]= 'Banana'\n",
    "print('B[0]:',B[0])"
   ]
  },
  {
   "cell_type": "code",
   "execution_count": 19,
   "id": "506137f0-bae8-4f5d-aaf6-0882206da43b",
   "metadata": {},
   "outputs": [
    {
     "data": {
      "text/plain": [
       "['Banana', 10, 1.2]"
      ]
     },
     "execution_count": 19,
     "metadata": {},
     "output_type": "execute_result"
    }
   ],
   "source": [
    "# Clone by value the list\n",
    "B=A[:]\n",
    "B"
   ]
  },
  {
   "cell_type": "code",
   "execution_count": 21,
   "id": "688fed51-1951-4be3-af7a-68c5beaaa4d0",
   "metadata": {},
   "outputs": [
    {
     "name": "stdout",
     "output_type": "stream",
     "text": [
      "B[0]: Banana\n",
      "B[0]: Banana\n"
     ]
    }
   ],
   "source": [
    "print('B[0]:', B[0])\n",
    "A[0]='Hard rock'\n",
    "print('B[0]:', B[0])"
   ]
  },
  {
   "cell_type": "markdown",
   "id": "6cb49add-49de-4d5d-b91c-19cf4393f8a3",
   "metadata": {},
   "source": [
    "# Scenario : SHOPPING \n",
    "## Task 1 : Create a List"
   ]
  },
  {
   "cell_type": "code",
   "execution_count": 22,
   "id": "9eeee8e3-d6ca-4d04-988a-e88e3654b768",
   "metadata": {},
   "outputs": [],
   "source": [
    "# Creating an emoty Shopping list\n",
    "SL= []"
   ]
  },
  {
   "cell_type": "markdown",
   "id": "eacef7ad-4c33-4ef3-9738-af3117a4eabc",
   "metadata": {},
   "source": [
    "## Task 2 : Now store the number of items to the shopping_list"
   ]
  },
  {
   "cell_type": "code",
   "execution_count": 24,
   "id": "b4148445-aabd-49df-bfd6-d38068e8d339",
   "metadata": {},
   "outputs": [
    {
     "data": {
      "text/plain": [
       "['Watch', 'Laptop', 'Shoe', 'Pen', 'Clothes']"
      ]
     },
     "execution_count": 24,
     "metadata": {},
     "output_type": "execute_result"
    }
   ],
   "source": [
    "# Inserting elements into that list\n",
    "SL = ['Watch','Laptop','Shoe','Pen','Clothes']\n",
    "SL"
   ]
  },
  {
   "cell_type": "markdown",
   "id": "72c2d893-0f57-4607-96d7-a40d1860b896",
   "metadata": {},
   "source": [
    "## Task 3 : Add a new item to the shopping_list"
   ]
  },
  {
   "cell_type": "code",
   "execution_count": 25,
   "id": "a4a889d5-ee87-4738-8735-77f9e0ee9a46",
   "metadata": {},
   "outputs": [
    {
     "data": {
      "text/plain": [
       "['Watch', 'Laptop', 'Shoe', 'Pen', 'Clothes', 'Football']"
      ]
     },
     "execution_count": 25,
     "metadata": {},
     "output_type": "execute_result"
    }
   ],
   "source": [
    "# adding one item as football into Shopping list\n",
    "SL.append('Football')\n",
    "SL"
   ]
  },
  {
   "cell_type": "markdown",
   "id": "a30cb013-858f-4871-9334-2be64930fa25",
   "metadata": {},
   "source": [
    "## Task 4 : Print First item from the shopping_list"
   ]
  },
  {
   "cell_type": "code",
   "execution_count": 26,
   "id": "3e7cbfeb-808e-4527-9594-255b872d521d",
   "metadata": {},
   "outputs": [
    {
     "name": "stdout",
     "output_type": "stream",
     "text": [
      "First item of the Shopping list : Watch\n"
     ]
    }
   ],
   "source": [
    "print('First item of the Shopping list :',SL[0])\n"
   ]
  },
  {
   "cell_type": "markdown",
   "id": "11b36dd1-f0dd-4107-bee7-e8de1f454669",
   "metadata": {},
   "source": [
    "## Task 5 : Print Last item from the shopping_list"
   ]
  },
  {
   "cell_type": "code",
   "execution_count": 27,
   "id": "d03e7241-75ac-468e-849a-851e4d7ca472",
   "metadata": {},
   "outputs": [
    {
     "name": "stdout",
     "output_type": "stream",
     "text": [
      " The last item of the shopping list : Football\n"
     ]
    }
   ],
   "source": [
    "print(' The last item of the shopping list :',SL[-1])"
   ]
  },
  {
   "cell_type": "code",
   "execution_count": 29,
   "id": "2e15e80a-91fb-4656-97c9-4176a89b0109",
   "metadata": {},
   "outputs": [
    {
     "name": "stdout",
     "output_type": "stream",
     "text": [
      " The last item of the shopping list : Football\n"
     ]
    }
   ],
   "source": [
    "print(' The last item of the shopping list :',SL[5])"
   ]
  },
  {
   "cell_type": "markdown",
   "id": "f740bd28-2585-4ce5-86b2-e6827d3307cb",
   "metadata": {},
   "source": [
    "## Task-6 Print the entire Shopping List"
   ]
  },
  {
   "cell_type": "code",
   "execution_count": 30,
   "id": "027a3551-8d82-4ac5-a019-5a2e8d138a53",
   "metadata": {},
   "outputs": [
    {
     "name": "stdout",
     "output_type": "stream",
     "text": [
      "['Watch', 'Laptop', 'Shoe', 'Pen', 'Clothes', 'Football']\n"
     ]
    }
   ],
   "source": [
    "print(SL)"
   ]
  },
  {
   "cell_type": "markdown",
   "id": "16eb39ed-d570-4b7d-8f55-65c4c8d09d29",
   "metadata": {},
   "source": [
    "## Task-7 Print the item that are important to buy from the Shopping List"
   ]
  },
  {
   "cell_type": "code",
   "execution_count": 32,
   "id": "f6e5a9b3-92c2-4ceb-965f-1b069fd147a0",
   "metadata": {},
   "outputs": [
    {
     "name": "stdout",
     "output_type": "stream",
     "text": [
      "The item that are important to buy : Laptop Clothes\n"
     ]
    }
   ],
   "source": [
    "# Print \"Laptop\" and \"shoes\"\n",
    "print('The item that are important to buy :', SL[1],SL[4])"
   ]
  },
  {
   "cell_type": "code",
   "execution_count": 33,
   "id": "a7bf09d2-a105-464a-8836-7bcf7da52d6d",
   "metadata": {},
   "outputs": [
    {
     "name": "stdout",
     "output_type": "stream",
     "text": [
      "The item that are important to buy : ['Laptop', 'Shoe']\n"
     ]
    }
   ],
   "source": [
    "# Print \"Laptop\" and \"shoes\"\n",
    "print('The item that are important to buy :', SL[1:3])"
   ]
  },
  {
   "cell_type": "markdown",
   "id": "d1dc2e65-fa38-4938-bc37-740bbd88ded6",
   "metadata": {},
   "source": [
    "## Task-8 Change the item from the shopping_list"
   ]
  },
  {
   "cell_type": "code",
   "execution_count": 39,
   "id": "de4b3d39-4456-4b49-a436-6ccecc102cf3",
   "metadata": {},
   "outputs": [
    {
     "data": {
      "text/plain": [
       "['Watch', 'Laptop', 'Shoe', 'Notebook', 'Clothes', 'Football']"
      ]
     },
     "execution_count": 39,
     "metadata": {},
     "output_type": "execute_result"
    }
   ],
   "source": [
    "# Instead of \"Pen\" I want to buy \"Notebook\" let's change the item stored in the list.\n",
    "SL[4]=\"Clothes\"\n",
    "SL"
   ]
  },
  {
   "cell_type": "markdown",
   "id": "6aaa7eaf-71de-4d97-998e-7fe4e3918061",
   "metadata": {},
   "source": [
    "## Task-9 Delete the item from the shopping_list that is not required"
   ]
  },
  {
   "cell_type": "code",
   "execution_count": 40,
   "id": "60e8522b-0460-463d-8d92-ca111d0c9728",
   "metadata": {},
   "outputs": [
    {
     "name": "stdout",
     "output_type": "stream",
     "text": [
      "Before Change : ['Watch', 'Laptop', 'Shoe', 'Notebook', 'Clothes', 'Football']\n",
      "After Change : ['Watch', 'Laptop', 'Shoe', 'Notebook', 'Football']\n"
     ]
    }
   ],
   "source": [
    "# Let's delete items that are unimportant, such as; I don't want to buy Clothes, let's delete it.\n",
    "print('Before Change :',SL)\n",
    "del(SL[4])\n",
    "print('After Change :',SL)"
   ]
  },
  {
   "cell_type": "markdown",
   "id": "b9564f29-a1b5-40a3-b601-fd4ccc8873eb",
   "metadata": {},
   "source": [
    "## Task-10 Print the shopping list"
   ]
  },
  {
   "cell_type": "code",
   "execution_count": 41,
   "id": "a4b5e611-e7b0-411c-9b22-e3b709180670",
   "metadata": {},
   "outputs": [
    {
     "name": "stdout",
     "output_type": "stream",
     "text": [
      "Final shopping list is : ['Watch', 'Laptop', 'Shoe', 'Notebook', 'Football']\n"
     ]
    }
   ],
   "source": [
    "# We are ready with our shopping list.\n",
    "print('Final shopping list is :',SL)"
   ]
  },
  {
   "cell_type": "code",
   "execution_count": null,
   "id": "25c87c30-454f-4dfd-a8f7-6edbb7ee586b",
   "metadata": {},
   "outputs": [],
   "source": []
  }
 ],
 "metadata": {
  "kernelspec": {
   "display_name": "Python 3 (ipykernel)",
   "language": "python",
   "name": "python3"
  },
  "language_info": {
   "codemirror_mode": {
    "name": "ipython",
    "version": 3
   },
   "file_extension": ".py",
   "mimetype": "text/x-python",
   "name": "python",
   "nbconvert_exporter": "python",
   "pygments_lexer": "ipython3",
   "version": "3.12.4"
  }
 },
 "nbformat": 4,
 "nbformat_minor": 5
}
